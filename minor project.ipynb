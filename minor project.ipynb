# Importing the libraries
import numpy as np
import matplotlib.pyplot as plt
import pandas as pd
from sklearn.naive_bayes import GaussianNB
from sklearn.model_selection import train_test_split
from sklearn.preprocessing import StandardScaler, LabelEncoder
from sklearn import metrics

# Importing the dataset
dataset = pd.read_csv("datasetfinal.csv")

# Splitting the dataset into X (independent) and y (dependent)
X = dataset.iloc[:, :-1].values
y = dataset.iloc[:, 11].values

# Encoding categorical data
nameencoder = LabelEncoder()
actor1encoder = LabelEncoder()
actor2encoder = LabelEncoder()
actor3encoder = LabelEncoder()
genresencoder = LabelEncoder()

# Encoding categorical features
dataset['director_name'] = nameencoder.fit_transform(dataset['director_name'])
dataset['actor_1_name'] = actor1encoder.fit_transform(dataset['actor_1_name'])
dataset['actor_2_name'] = actor2encoder.fit_transform(dataset['actor_2_name'].astype(str))
dataset['actor_3_name'] = actor3encoder.fit_transform(dataset['actor_3_name'].astype(str))
dataset['genres'] = genresencoder.fit_transform(dataset['genres'])

# Select features to be used
features = ["director_name", "actor_1_name", "genres", "imdb_score", "budget", "gross", "profit_percent"]

# Encoding the dependent variable
labelencoder_y = LabelEncoder()
y = labelencoder_y.fit_transform(y)

# Splitting the dataset into training and test sets
X_train, X_test, y_train, y_test = train_test_split(dataset[features], y, test_size=0.2, random_state=0)

# Scaling the numeric data
scaler = StandardScaler()
X_train = scaler.fit_transform(X_train)
X_test = scaler.transform(X_test)

# Create and train the Naive Bayes model
model = GaussianNB()
model.fit(X_train, y_train)

# Predict the values using the test data
nb_predict_train = model.predict(X_test)

# Prediction input from user
director_name = input("Director Name        : ")
actor_name = input("Actor Name           : ")
genre = input("Genre                : ")
imdb_rating = float(input("IMDB Rating          : "))
budget = float(input("Budget               : "))
gross = float(input("Gross                : "))
profit_percent = float(input("Profit Percentage    : "))

predict = [director_name, actor_name, genre, imdb_rating, budget, gross, profit_percent]

# Encode categorical inputs
predict[0] = nameencoder.transform([predict[0]])
predict[1] = actor1encoder.transform([predict[1]])
predict[2] = genresencoder.transform([predict[2]])

# Scale the data
predict = scaler.transform([predict])

# Predict and display the result
prediction = model.predict(predict)

if prediction == 1:
    print("                           HIT")
else:
    print("                           FLOP")

# Display the model's accuracy
print("                             ACCURACY: {0:.4f}".format(metrics.accuracy_score(y_test, nb_predict_train)))
